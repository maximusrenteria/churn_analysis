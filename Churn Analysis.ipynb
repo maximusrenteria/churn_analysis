{
 "cells": [
  {
   "cell_type": "markdown",
   "metadata": {},
   "source": [
    "Running Prediction Model for Clean Churn Training and Test data"
   ]
  },
  {
   "cell_type": "code",
   "execution_count": 2,
   "metadata": {},
   "outputs": [
    {
     "name": "stderr",
     "output_type": "stream",
     "text": [
      "C:\\Users\\maxim\\AppData\\Local\\Temp\\ipykernel_13464\\810661041.py:1: DeprecationWarning: \n",
      "Pyarrow will become a required dependency of pandas in the next major release of pandas (pandas 3.0),\n",
      "(to allow more performant data types, such as the Arrow string type, and better interoperability with other libraries)\n",
      "but was not found to be installed on your system.\n",
      "If this would cause problems for you,\n",
      "please provide us feedback at https://github.com/pandas-dev/pandas/issues/54466\n",
      "        \n",
      "  import pandas as pd\n"
     ]
    }
   ],
   "source": [
    "import pandas as pd\n",
    "import numpy as np\n",
    "from sklearn.ensemble import RandomForestClassifier\n",
    "from sklearn.svm import SVC\n",
    "from sklearn.preprocessing import MinMaxScaler\n",
    "from sklearn.metrics import confusion_matrix\n",
    "from sklearn.metrics import classification_report\n",
    "from sklearn.metrics import accuracy_score\n",
    "from sklearn.metrics import cohen_kappa_score\n",
    "from xgboost import XGBClassifier"
   ]
  },
  {
   "cell_type": "markdown",
   "metadata": {},
   "source": [
    "Import and read the CSV file into a Dataframe"
   ]
  },
  {
   "cell_type": "code",
   "execution_count": 8,
   "metadata": {},
   "outputs": [],
   "source": [
    "train = pd.read_csv('churn train.csv')\n",
    "train_test = pd.read_csv('churn train test data.csv')\n",
    "# Drop state and id\n",
    "train = train.drop('state',axis=1)\n",
    "train = train.drop('id', axis=1)\n",
    "train_test = train_test.drop('state',axis=1)\n",
    "train_test = train_test.drop('id', axis=1)\n",
    "# Split variables and churn values\n",
    "x_train = train.drop('churn',axis=1).values\n",
    "y_train = train.churn.values\n",
    "x_traintest = train_test.drop('churn',axis=1).values\n",
    "y_traintest = train_test.churn.values\n"
   ]
  },
  {
   "cell_type": "markdown",
   "metadata": {},
   "source": [
    "Scaler"
   ]
  },
  {
   "cell_type": "markdown",
   "metadata": {},
   "source": [
    "Random Forest Classifier Model"
   ]
  },
  {
   "cell_type": "code",
   "execution_count": 14,
   "metadata": {},
   "outputs": [
    {
     "name": "stdout",
     "output_type": "stream",
     "text": [
      "Accuracy: \n",
      "0.9058823529411765\n",
      "Classification report: \n",
      "              precision    recall  f1-score   support\n",
      "\n",
      "           0       0.91      0.98      0.95      1095\n",
      "           1       0.80      0.44      0.57       180\n",
      "\n",
      "    accuracy                           0.91      1275\n",
      "   macro avg       0.86      0.71      0.76      1275\n",
      "weighted avg       0.90      0.91      0.89      1275\n",
      "\n",
      "Confusion Matrix\n",
      "[[1075   20]\n",
      " [ 100   80]]\n",
      "Cohen kappa score: \n",
      "0.5233644859813084\n"
     ]
    }
   ],
   "source": [
    "rfc = RandomForestClassifier()\n",
    "rfc.fit(x_train, y_train)\n",
    "y_pred = rfc.predict(x_traintest)\n",
    "print('Accuracy: ')\n",
    "print('{}'.format(accuracy_score(y_traintest, y_pred)))\n",
    "print('Classification report: ')\n",
    "print('{}'.format(classification_report(y_traintest, y_pred)))\n",
    "print('Confusion Matrix')\n",
    "print('{}'.format(confusion_matrix(y_traintest, y_pred)))\n",
    "print('Cohen kappa score: ')\n",
    "print('{}'.format(cohen_kappa_score(y_traintest, y_pred)))"
   ]
  },
  {
   "cell_type": "markdown",
   "metadata": {},
   "source": [
    "XGBoost Classifier Model"
   ]
  },
  {
   "cell_type": "code",
   "execution_count": 15,
   "metadata": {},
   "outputs": [
    {
     "name": "stdout",
     "output_type": "stream",
     "text": [
      "Accuracy: \n",
      "0.9145098039215687\n",
      "Classification report: \n",
      "              precision    recall  f1-score   support\n",
      "\n",
      "           0       0.93      0.97      0.95      1095\n",
      "           1       0.78      0.56      0.65       180\n",
      "\n",
      "    accuracy                           0.91      1275\n",
      "   macro avg       0.85      0.76      0.80      1275\n",
      "weighted avg       0.91      0.91      0.91      1275\n",
      "\n",
      "Confusion Matrix\n",
      "[[1066   29]\n",
      " [  80  100]]\n",
      "Cohen kappa score: \n",
      "0.600112218913203\n"
     ]
    }
   ],
   "source": [
    "clf = XGBClassifier(max_depth=7, n_estimators=200, colsample_bytree=0.7, \n",
    "                        subsample=0.8, nthread=10, learning_rate=0.01)\n",
    "clf.fit(x_train, y_train)\n",
    "y_pred = clf.predict(x_traintest)\n",
    "print('Accuracy: ')\n",
    "print('{}'.format(accuracy_score(y_traintest, y_pred)))\n",
    "print('Classification report: ')\n",
    "print('{}'.format(classification_report(y_traintest, y_pred)))\n",
    "print('Confusion Matrix')\n",
    "print('{}'.format(confusion_matrix(y_traintest, y_pred)))\n",
    "print('Cohen kappa score: ')\n",
    "print('{}'.format(cohen_kappa_score(y_traintest, y_pred)))"
   ]
  }
 ],
 "metadata": {
  "kernelspec": {
   "display_name": "Python 3",
   "language": "python",
   "name": "python3"
  },
  "language_info": {
   "codemirror_mode": {
    "name": "ipython",
    "version": 3
   },
   "file_extension": ".py",
   "mimetype": "text/x-python",
   "name": "python",
   "nbconvert_exporter": "python",
   "pygments_lexer": "ipython3",
   "version": "3.12.1"
  }
 },
 "nbformat": 4,
 "nbformat_minor": 2
}
